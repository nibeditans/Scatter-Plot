{
 "cells": [
  {
   "cell_type": "markdown",
   "id": "af672857",
   "metadata": {
    "papermill": {
     "duration": 0.003507,
     "end_time": "2023-07-11T19:57:58.788000",
     "exception": false,
     "start_time": "2023-07-11T19:57:58.784493",
     "status": "completed"
    },
    "tags": []
   },
   "source": [
    "# Scatter Plot with Mean and Standard Deviation Visualization"
   ]
  },
  {
   "cell_type": "markdown",
   "id": "8f107407",
   "metadata": {
    "papermill": {
     "duration": 0.002659,
     "end_time": "2023-07-11T19:57:58.793909",
     "exception": false,
     "start_time": "2023-07-11T19:57:58.791250",
     "status": "completed"
    },
    "tags": []
   },
   "source": [
    "This code generates random data and creates a scatter plot to visualize the data points. It also calculates the mean and standard deviation of the data and adds markers for the mean and horizontal lines for the standard deviation on the plot. The purpose is to visually demonstrate the central tendency and spread of the data using pandas, numpy, and matplotlib."
   ]
  },
  {
   "cell_type": "code",
   "execution_count": 1,
   "id": "9eed8ebf",
   "metadata": {
    "execution": {
     "iopub.execute_input": "2023-07-11T19:57:58.801931Z",
     "iopub.status.busy": "2023-07-11T19:57:58.801190Z",
     "iopub.status.idle": "2023-07-11T19:57:58.813450Z",
     "shell.execute_reply": "2023-07-11T19:57:58.812264Z"
    },
    "papermill": {
     "duration": 0.018969,
     "end_time": "2023-07-11T19:57:58.815792",
     "exception": false,
     "start_time": "2023-07-11T19:57:58.796823",
     "status": "completed"
    },
    "tags": []
   },
   "outputs": [],
   "source": [
    "import pandas as pd\n",
    "import numpy as np\n",
    "import matplotlib.pyplot as plt\n",
    "\n",
    "# Generate random data\n",
    "np.random.seed(42)\n",
    "num_points = 100\n",
    "x = np.random.randn(num_points)\n",
    "y = 2 * x + np.random.randn(num_points)"
   ]
  },
  {
   "cell_type": "code",
   "execution_count": 2,
   "id": "c9b43aed",
   "metadata": {
    "execution": {
     "iopub.execute_input": "2023-07-11T19:57:58.823411Z",
     "iopub.status.busy": "2023-07-11T19:57:58.822971Z",
     "iopub.status.idle": "2023-07-11T19:57:58.834319Z",
     "shell.execute_reply": "2023-07-11T19:57:58.833190Z"
    },
    "papermill": {
     "duration": 0.017811,
     "end_time": "2023-07-11T19:57:58.836680",
     "exception": false,
     "start_time": "2023-07-11T19:57:58.818869",
     "status": "completed"
    },
    "tags": []
   },
   "outputs": [],
   "source": [
    "# Create a DataFrame\n",
    "data = pd.DataFrame({'X': x, 'Y': y})\n",
    "\n",
    "# Calculate mean and standard deviation\n",
    "x_mean = np.mean(x)\n",
    "y_mean = np.mean(y)\n",
    "x_std = np.std(x)\n",
    "y_std = np.std(y)"
   ]
  },
  {
   "cell_type": "code",
   "execution_count": 3,
   "id": "6a517517",
   "metadata": {
    "execution": {
     "iopub.execute_input": "2023-07-11T19:57:58.844190Z",
     "iopub.status.busy": "2023-07-11T19:57:58.843798Z",
     "iopub.status.idle": "2023-07-11T19:57:59.198870Z",
     "shell.execute_reply": "2023-07-11T19:57:59.197842Z"
    },
    "papermill": {
     "duration": 0.361721,
     "end_time": "2023-07-11T19:57:59.201443",
     "exception": false,
     "start_time": "2023-07-11T19:57:58.839722",
     "status": "completed"
    },
    "tags": []
   },
   "outputs": [
    {
     "data": {
      "image/png": "[encoded data removed]",
      "text/plain": [
       "<Figure size 640x480 with 1 Axes>"
      ]
     },
     "metadata": {},
     "output_type": "display_data"
    }
   ],
   "source": [
    "# Scatter plot\n",
    "plt.scatter(x, y, label='Data Points')\n",
    "\n",
    "# Plot mean\n",
    "plt.scatter(x_mean, y_mean, color='red', marker='x', label='Mean')\n",
    "\n",
    "# Plot standard deviation\n",
    "plt.axhline(y_mean + y_std, color='green', linestyle='--', label='Standard Deviation')\n",
    "plt.axhline(y_mean - y_std, color='green', linestyle='--')\n",
    "\n",
    "# Set labels and legend\n",
    "plt.xlabel('X')\n",
    "plt.ylabel('Y')\n",
    "plt.legend()\n",
    "\n",
    "# Show the plot\n",
    "plt.show()"
   ]
  },
  {
   "cell_type": "markdown",
   "id": "415bb47c",
   "metadata": {
    "papermill": {
     "duration": 0.003281,
     "end_time": "2023-07-11T19:57:59.208447",
     "exception": false,
     "start_time": "2023-07-11T19:57:59.205166",
     "status": "completed"
    },
    "tags": []
   },
   "source": [
    "Here, we started by importing the necessary libraries: pandas, numpy, and matplotlib. We set a random seed for reproducibility and generate random data using numpy.\n",
    "\n",
    "Then, we created a DataFrame using pandas, where 'X' and 'Y' are the column names and x and y are the corresponding arrays.\n",
    "\n",
    "Then we calculated the mean and standard deviation using numpy's mean and std functions.\n",
    "\n",
    "After that, we created a scatter plot using matplotlib's scatter function to visualize the data points. We also added markers for the mean using scatter and horizontal lines for the standard deviation using axhline.\n",
    "\n",
    "Finally, we set the labels, add a legend, and displayed the plot using show."
   ]
  },
  {
   "cell_type": "markdown",
   "id": "9e657c78",
   "metadata": {
    "papermill": {
     "duration": 0.003093,
     "end_time": "2023-07-11T19:57:59.214931",
     "exception": false,
     "start_time": "2023-07-11T19:57:59.211838",
     "status": "completed"
    },
    "tags": []
   },
   "source": [
    "I hope you guys enjoyed this notebook and got something useful today. 😊"
   ]
  }
 ],
 "metadata": {
  "kernelspec": {
   "display_name": "Python 3",
   "language": "python",
   "name": "python3"
  },
  "language_info": {
   "codemirror_mode": {
    "name": "ipython",
    "version": 3
   },
   "file_extension": ".py",
   "mimetype": "text/x-python",
   "name": "python",
   "nbconvert_exporter": "python",
   "pygments_lexer": "ipython3",
   "version": "3.10.12"
  },
  "papermill": {
   "default_parameters": {},
   "duration": 12.381482,
   "end_time": "2023-07-11T19:58:00.039677",
   "environment_variables": {},
   "exception": null,
   "input_path": "__notebook__.ipynb",
   "output_path": "__notebook__.ipynb",
   "parameters": {},
   "start_time": "2023-07-11T19:57:47.658195",
   "version": "2.4.0"
  }
 },
 "nbformat": 4,
 "nbformat_minor": 5
}
